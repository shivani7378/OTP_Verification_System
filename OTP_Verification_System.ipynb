{
  "nbformat": 4,
  "nbformat_minor": 0,
  "metadata": {
    "colab": {
      "provenance": []
    },
    "kernelspec": {
      "name": "python3",
      "display_name": "Python 3"
    },
    "language_info": {
      "name": "python"
    }
  },
  "cells": [
    {
      "cell_type": "code",
      "execution_count": null,
      "metadata": {
        "id": "zmrxQS2IGXc-"
      },
      "outputs": [],
      "source": [
        "# Generate a random 6-digit OTP\n",
        "OTP = random.randint(100000, 999999)\n",
        "\n",
        "# Set up the SMTP server\n",
        "server = smtplib.SMTP('smtp.gmail.com', 587)\n",
        "server.starttls()\n",
        "\n",
        "# Collect sender credentials and receiver details\n",
        "sender_email = \"XXXXXXXXX@gmail.com\"\n",
        "password = \"XXXXXXXXXX\"\n",
        "server.login(sender_email, password)\n",
        "\n",
        "receiver_email = input(\"Enter receiver's email: \")\n",
        "\n",
        "# Verify and validate the receiver's email\n",
        "def email_verification(email):\n",
        "    if \"@\" in email and email.split(\"@\")[1] in [\"gmail.com\", \"yahoo.com\", \"hotmail.com\", \"outlook.com\"]:\n",
        "        return email\n",
        "    else:\n",
        "        print(\"Invalid email! Please enter again.\")\n",
        "        return email_verification(input(\"Enter a valid email: \"))\n",
        "\n",
        "receiver_email = email_verification(receiver_email)\n",
        "\n",
        "# Send the OTP email\n",
        "subject = \"OTP Verification\"\n",
        "body = f\"Dear User,\\n\\nYour OTP is {OTP}.\\n\\nThank you.\"\n",
        "message = f\"Subject: {subject}\\n\\n{body}\"\n",
        "server.sendmail(\"XXXXXXXXXXX@gmail.com\", receiver_email, message)\n",
        "print(f\"OTP has been sent to {receiver_email}\")\n",
        "\n",
        "# Validate the entered OTP\n",
        "user_otp = int(input(\"Enter the OTP: \"))\n",
        "if user_otp == OTP:\n",
        "    print(\"OTP verified successfully!\")\n",
        "else:\n",
        "    print(\"Invalid OTP. Please try again.\")\n",
        "\n",
        "# Close the SMTP server\n",
        "server.quit()"
      ]
    }
  ]
}